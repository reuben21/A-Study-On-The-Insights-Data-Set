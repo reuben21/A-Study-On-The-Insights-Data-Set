{
 "cells": [
  {
   "cell_type": "code",
   "execution_count": 1,
   "metadata": {},
   "outputs": [],
   "source": [
    "import numpy as np\n",
    "import pandas as pd"
   ]
  },
  {
   "cell_type": "code",
   "execution_count": 2,
   "metadata": {},
   "outputs": [
    {
     "data": {
      "text/plain": [
       "Index(['Date', 'HS Code', 'Product', 'Specific Product', 'Port of Origin',\n",
       "       'Country of Destination', 'Port of Destination', 'Value(USD)',\n",
       "       'Std Qty', 'Std Unit', 'Std Unit Price(USD)', 'Qty', 'Unit',\n",
       "       'Value In FC', 'Unit Rate In FC', 'Unit Rate Currency', 'Value(INR)',\n",
       "       'Shipment Mode', 'Invoice Value INR'],\n",
       "      dtype='object')"
      ]
     },
     "execution_count": 2,
     "metadata": {},
     "output_type": "execute_result"
    }
   ],
   "source": [
    "df = pd.read_csv('Insights.csv')\n",
    "df.columns"
   ]
  },
  {
   "cell_type": "code",
   "execution_count": 3,
   "metadata": {},
   "outputs": [],
   "source": [
    "df.dropna(inplace = True)"
   ]
  },
  {
   "cell_type": "code",
   "execution_count": null,
   "metadata": {},
   "outputs": [],
   "source": [
    "from geopy.geocoders import ArcGIS\n",
    "nom=ArcGIS()\n",
    "df['city_coord'] = df['Port of Destination'].apply(nom.geocode).apply(lambda x: (x.latitude, x.longitude))"
   ]
  },
  {
   "cell_type": "code",
   "execution_count": null,
   "metadata": {},
   "outputs": [],
   "source": [
    "df"
   ]
  },
  {
   "cell_type": "code",
   "execution_count": null,
   "metadata": {},
   "outputs": [],
   "source": [
    "df.Coordinates[0].latitude\n",
    "df[\"Latitude\"]=df[\"Coordinates\"].apply(lambda x: x.latitude if x !=None else None)\n",
    "df[\"Longitude\"]=df[\"Coordinates\"].apply(lambda x: x.longitude if x !=None else None)"
   ]
  }
 ],
 "metadata": {
  "kernelspec": {
   "display_name": "Python 3",
   "language": "python",
   "name": "python3"
  },
  "language_info": {
   "codemirror_mode": {
    "name": "ipython",
    "version": 3
   },
   "file_extension": ".py",
   "mimetype": "text/x-python",
   "name": "python",
   "nbconvert_exporter": "python",
   "pygments_lexer": "ipython3",
   "version": "3.7.6"
  }
 },
 "nbformat": 4,
 "nbformat_minor": 4
}
