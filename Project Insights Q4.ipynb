{
 "cells": [
  {
   "cell_type": "markdown",
   "metadata": {},
   "source": [
    "# Study on The Insights Data Set\n"
   ]
  },
  {
   "cell_type": "markdown",
   "metadata": {},
   "source": [
    "`Imports`\n"
   ]
  },
  {
   "cell_type": "code",
   "execution_count": 1,
   "metadata": {},
   "outputs": [],
   "source": [
    "import pandas as pd\n",
    "import numpy as np\n",
    "import matplotlib.pyplot as plt\n",
    "import seaborn as sns; sns.set()  # for plot styling"
   ]
  },
  {
   "cell_type": "code",
   "execution_count": 2,
   "metadata": {},
   "outputs": [],
   "source": [
    "df = pd.read_csv(\"Insights.csv\")\n"
   ]
  },
  {
   "cell_type": "code",
   "execution_count": 3,
   "metadata": {},
   "outputs": [
    {
     "name": "stdout",
     "output_type": "stream",
     "text": [
      "        Date   HS Code                                            Product  \\\n",
      "0  31-Jan-20  42022110  LADIES LEATHER HAND BAG 100% COW LEATHER SAC C...   \n",
      "1  31-Jan-20  42022110                                                BAG   \n",
      "2  28-Jan-20  42022110           COW NAPPA LEATHER HAND BAG ORDER NO.2167   \n",
      "3  28-Jan-20  42022110           COW NAPPA LEATHER HAND BAG ORDER NO.2213   \n",
      "4  28-Jan-20  42022110           COW NAPPA LEATHER HAND BAG ORDER NO.1132   \n",
      "\n",
      "  Specific Product Port of Origin Country of Destination Port of Destination  \\\n",
      "0          Leather           JNPT                 France            Le Havre   \n",
      "1          Leather           JNPT                  Japan                Kobe   \n",
      "2          Leather           JNPT                  Spain           Algeciras   \n",
      "3          Leather           JNPT                  Spain           Algeciras   \n",
      "4          Leather           JNPT                  Spain           Algeciras   \n",
      "\n",
      "   Value(USD)  Std Qty Std Unit  Std Unit Price(USD)    Qty Unit  Value In FC  \\\n",
      "0     1543.70     86.0      NOS                17.95   86.0  PCS       1543.7   \n",
      "1     3074.75    710.0      NOS                 4.33  710.0  PCS       3074.3   \n",
      "2     2487.49    100.0      NOS                24.87  100.0  PCS       2365.0   \n",
      "3     1529.66    100.0      NOS                15.30  100.0  PCS       1450.0   \n",
      "4     2558.97     70.0      NOS                36.56   70.0  PCS       2436.0   \n",
      "\n",
      "   Unit Rate In FC Unit Rate Currency  Value(INR) Shipment Mode  \\\n",
      "0            17.95                USD   107981.82           Sea   \n",
      "1             4.33                USD   215078.96           Sea   \n",
      "2            23.65                EUR   174000.00           Sea   \n",
      "3            14.50                EUR   107000.00           Sea   \n",
      "4            34.80                EUR   179000.00           Sea   \n",
      "\n",
      "   Invoice Value INR  \n",
      "0                0.0  \n",
      "1                0.0  \n",
      "2                0.0  \n",
      "3                0.0  \n",
      "4                0.0  \n"
     ]
    }
   ],
   "source": [
    "print(df.head())\n",
    "quantity = df['Qty']\n",
    "unit_rate_in_fc = df['Unit Rate In FC']"
   ]
  },
  {
   "cell_type": "code",
   "execution_count": null,
   "metadata": {},
   "outputs": [],
   "source": []
  }
 ],
 "metadata": {
  "kernelspec": {
   "display_name": "Python 3",
   "language": "python",
   "name": "python3"
  },
  "language_info": {
   "codemirror_mode": {
    "name": "ipython",
    "version": 3
   },
   "file_extension": ".py",
   "mimetype": "text/x-python",
   "name": "python",
   "nbconvert_exporter": "python",
   "pygments_lexer": "ipython3",
   "version": "3.8.5"
  }
 },
 "nbformat": 4,
 "nbformat_minor": 4
}
