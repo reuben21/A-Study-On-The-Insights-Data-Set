{
 "cells": [
  {
   "cell_type": "code",
   "execution_count": 1,
   "metadata": {},
   "outputs": [],
   "source": [
    "import numpy as np\n",
    "import pandas as pd\n",
    "import matplotlib.pyplot as plt"
   ]
  },
  {
   "cell_type": "code",
   "execution_count": 2,
   "metadata": {},
   "outputs": [],
   "source": [
    "raw_data  = pd.read_csv('Insights.csv')"
   ]
  },
  {
   "cell_type": "code",
   "execution_count": 3,
   "metadata": {},
   "outputs": [],
   "source": [
    "raw_data.fillna(0,inplace=True)"
   ]
  },
  {
   "cell_type": "code",
   "execution_count": 4,
   "metadata": {},
   "outputs": [],
   "source": [
    "X = raw_data['Qty']\n",
    "Y = raw_data['Unit Rate In FC']"
   ]
  },
  {
   "cell_type": "code",
   "execution_count": 5,
   "metadata": {},
   "outputs": [
    {
     "data": {
      "text/plain": [
       "(4973,)"
      ]
     },
     "execution_count": 5,
     "metadata": {},
     "output_type": "execute_result"
    }
   ],
   "source": [
    "X.shape"
   ]
  },
  {
   "cell_type": "code",
   "execution_count": 6,
   "metadata": {},
   "outputs": [
    {
     "data": {
      "text/plain": [
       "(4973, 1)"
      ]
     },
     "execution_count": 6,
     "metadata": {},
     "output_type": "execute_result"
    }
   ],
   "source": [
    "X = X.values.reshape(-1,1)\n",
    "X.shape"
   ]
  },
  {
   "cell_type": "code",
   "execution_count": 7,
   "metadata": {},
   "outputs": [],
   "source": [
    "from sklearn.model_selection import train_test_split\n",
    "X_train,X_test,y_train,y_test = train_test_split(X,Y,test_size=0.2,random_state=45)"
   ]
  },
  {
   "cell_type": "code",
   "execution_count": 8,
   "metadata": {},
   "outputs": [],
   "source": [
    "from sklearn.linear_model import LinearRegression\n",
    "L = LinearRegression()"
   ]
  },
  {
   "cell_type": "code",
   "execution_count": 9,
   "metadata": {},
   "outputs": [
    {
     "data": {
      "text/plain": [
<<<<<<< HEAD
       "LinearRegression(copy_X=True, fit_intercept=True, n_jobs=None, normalize=False)"
=======
       "LinearRegression()"
>>>>>>> 5fa4214b3fb63e79116b31f9d8727e4621b87472
      ]
     },
     "execution_count": 9,
     "metadata": {},
     "output_type": "execute_result"
    }
   ],
   "source": [
    "L.fit(X_train.astype(np.float32),y_train)"
   ]
  },
  {
   "cell_type": "code",
   "execution_count": 10,
   "metadata": {},
   "outputs": [],
   "source": [
    "y_pred = L.predict(X_test)"
   ]
  },
  {
   "cell_type": "code",
   "execution_count": 11,
   "metadata": {},
   "outputs": [
    {
     "data": {
      "text/plain": [
       "0.001654931454667108"
      ]
     },
     "execution_count": 11,
     "metadata": {},
     "output_type": "execute_result"
    }
   ],
   "source": [
    "L.score(X_train,y_train)"
   ]
  },
  {
   "cell_type": "code",
   "execution_count": 12,
   "metadata": {},
   "outputs": [
    {
     "name": "stdout",
     "output_type": "stream",
     "text": [
<<<<<<< HEAD
      "R2 score -0.002767654377692219\n",
      "RMSE 62.48041152531978\n"
=======
      "R2 score -0.0027676536621761283\n",
      "RMSE 62.480411503028606\n"
>>>>>>> 5fa4214b3fb63e79116b31f9d8727e4621b87472
     ]
    }
   ],
   "source": [
    "from sklearn.metrics import r2_score,mean_squared_error\n",
    "\n",
    "print(\"R2 score\",r2_score(y_test,y_pred))\n",
    "print(\"RMSE\",np.sqrt(mean_squared_error(y_test,y_pred)))"
   ]
  },
  {
   "cell_type": "code",
<<<<<<< HEAD
   "execution_count": 13,
=======
   "execution_count": 56,
>>>>>>> 5fa4214b3fb63e79116b31f9d8727e4621b87472
   "metadata": {},
   "outputs": [],
   "source": [
    "from sklearn.linear_model import Ridge\n",
    "R = Ridge(alpha=0.0001)"
   ]
  },
  {
   "cell_type": "code",
<<<<<<< HEAD
   "execution_count": 14,
=======
   "execution_count": 57,
>>>>>>> 5fa4214b3fb63e79116b31f9d8727e4621b87472
   "metadata": {},
   "outputs": [
    {
     "data": {
      "text/plain": [
<<<<<<< HEAD
       "Ridge(alpha=0.0001, copy_X=True, fit_intercept=True, max_iter=None,\n",
       "      normalize=False, random_state=None, solver='auto', tol=0.001)"
      ]
     },
     "execution_count": 14,
=======
       "Ridge(alpha=0.0001)"
      ]
     },
     "execution_count": 57,
>>>>>>> 5fa4214b3fb63e79116b31f9d8727e4621b87472
     "metadata": {},
     "output_type": "execute_result"
    }
   ],
   "source": [
    "R.fit(X_train,y_train)"
   ]
  },
  {
   "cell_type": "code",
<<<<<<< HEAD
   "execution_count": 15,
=======
   "execution_count": 58,
>>>>>>> 5fa4214b3fb63e79116b31f9d8727e4621b87472
   "metadata": {},
   "outputs": [],
   "source": [
    "y_predt1 = R.predict(X_test)"
   ]
  },
  {
   "cell_type": "code",
<<<<<<< HEAD
   "execution_count": 16,
=======
   "execution_count": 59,
>>>>>>> 5fa4214b3fb63e79116b31f9d8727e4621b87472
   "metadata": {},
   "outputs": [
    {
     "name": "stdout",
     "output_type": "stream",
     "text": [
      "R2 score -0.0027676592103733633\n",
      "RMSE 62.48041167587704\n"
     ]
    }
   ],
   "source": [
    "print(\"R2 score\",r2_score(y_test,y_predt1))\n",
    "print(\"RMSE\",np.sqrt(mean_squared_error(y_test,y_predt1)))"
   ]
  },
  {
   "cell_type": "code",
<<<<<<< HEAD
   "execution_count": 17,
=======
   "execution_count": 60,
>>>>>>> 5fa4214b3fb63e79116b31f9d8727e4621b87472
   "metadata": {},
   "outputs": [
    {
     "data": {
<<<<<<< HEAD
      "image/png": "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\n",
=======
      "image/png": "iVBORw0KGgoAAAANSUhEUgAAAZgAAAEPCAYAAAB/WNKuAAAAOXRFWHRTb2Z0d2FyZQBNYXRwbG90bGliIHZlcnNpb24zLjMuMiwgaHR0cHM6Ly9tYXRwbG90bGliLm9yZy8vihELAAAACXBIWXMAAAsTAAALEwEAmpwYAAAdrUlEQVR4nO3dfZQcdZ3v8fc3nZF0CNkJ8rBkkhhk2axkg4SMgIvXq+vuHcQHRj2eBd0VH47xeNlzce9uXHLFBV28gFldl+uKssqTKE8Sh3hWjFzQ68NKYLIJDhFmiYAkMzlJVhwTyBAmPd/7R/1m0tPT01OV6Zqqnv68zunT1b/+Vff3l57MZ6p+1VXm7oiIiNTbrKwLEBGRmUkBIyIiqVDAiIhIKhQwIiKSCgWMiIikYnbWBWTpuOOO86VLl2ZdhohIQ9m8efN/uvvxk/Vr6oBZunQp3d3dWZchItJQzOxXcfppF5mIiKRCASMiIqlQwIiISCoUMCIikgoFjIiIpKKpjyI7El1b+li3sZf+gUEWthZZ07GMzpVtWZclIpI7CpgEurb0sXZ9D4NDJQD6BgZZu74HQCEjIlJBu8gSWLexdzRcRgwOlVi3sTejikRE8ksBk0D/wGCidhGRZqaASWBhazFRu4hIM1PAJLCmYxnFlsKYtmJLgTUdyzKqSEQkvzTJn8DIRL6OIhMRmZwCJqHOlW0KFBGRGLSLTEREUqGAERGRVChgREQkFQoYERFJhQJGRERSoYAREZFUKGBERCQVChgREUmFvmiZ0OVdPdy+aQcldwpmXHT2Yq7qXJF1WSIiuaOASeDyrh5ue+jZ0ccl99HHChkRkbG0iyyB2zftSNQuItLMMg0YM1tsZj8ws8fNbJuZXRrajzWz+83syXC/oGydtWa23cx6zayjrH2VmfWE564zM6t3vSX3RO0iIs0s6y2YQ8Bfu/urgHOAS8zsNOAy4AF3PxV4IDwmPHchsBw4D/iSmY2cP/96YDVwaridV+9iCxNk1kTtIiLNLNOAcfdd7v7vYXk/8DjQBlwA3BK63QJ0huULgDvc/aC7Pw1sB84ys5OA+e7+M3d34NaydermorMXJ2oXEWlmuZnkN7OlwEpgE3Ciu++CKITM7ITQrQ14qGy1naFtKCxXttfVyES+jiITEZlcLgLGzOYB9wAfc/d9NaZPqj3hNdqrvddqol1pLFmyJHGtV3WuUKCIiMSQ9RwMZtZCFC7fcPf1oXl32O1FuN8T2ncC5fujFgH9oX1RlfZx3P0Gd2939/bjjz++fgMREZExsj6KzICvAY+7++fLntoAXByWLwbuLWu/0MyOMrOTiSbzHw670/ab2TnhNd9Xto6IiGQg611k5wJ/AfSY2dbQ9r+Aa4C7zOxDwLPAuwHcfZuZ3QX8gugItEvcvRTW+yhwM1AE7gs3ERHJiHkTf4ejvb3du7u7sy5DRKShmNlmd2+frF/mczAiIjIzKWBERCQVChgREUmFAkZERFKhgBERkVQoYEREJBUKGBERSYUCRkREUqGAERGRVChgREQkFQoYERFJhQJGRERSoYAREZFUKGBERCQVChgREUmFAkZERFKhgBERkVQoYEREJBUKGBERSYUCRkREUqGAERGRVChgREQkFQoYERFJhQJGRERSoYAREZFUKGBERCQVs7MuoNF0belj3cZe+gcGWdhaZE3HMjpXtmVdlohI7ihgEuja0sfa9T0MDpUA6BsYZO36HgCFjIhIBe0iS2Ddxt7RcBkxOFRi3cbejCoSEckvBUwC/QODidpFRJqZAiaBha3FRO0iIs1MAZPAmo5lFFsKY9qKLQXWdCzLqCIRkfzSJH8CIxP5OopMRGRyCpiEOle2KVBERGLQLjIREUlFpgFjZjea2R4ze6ys7Uoz6zOzreF2ftlza81su5n1mllHWfsqM+sJz11nZjbdYxERkbGy3oK5GTivSvs/uvsZ4fZdADM7DbgQWB7W+ZKZjcy4Xw+sBk4Nt2qvKSIi0yjTgHH3HwHPxex+AXCHux9096eB7cBZZnYSMN/df+buDtwKdKZSsIiIxJb1FsxE/tLMfh52oS0IbW3AjrI+O0NbW1iubK/KzFabWbeZde/du7fedYuISJDHgLkeOAU4A9gFfC60V5tX8RrtVbn7De7e7u7txx9//BRLFRGRieQuYNx9t7uX3H0Y+BfgrPDUTmBxWddFQH9oX1SlXUREMpS7gAlzKiPeAYwcYbYBuNDMjjKzk4km8x92913AfjM7Jxw99j7g3mktWkRExsn0i5ZmdjvwBuA4M9sJXAG8wczOINrN9QzwEQB332ZmdwG/AA4Bl7j7yKmNP0p0RFoRuC/cREQkQxYdeNWc2tvbvbu7O+syREQaipltdvf2yfrpVDEJ6YqWIiLxKGAS0BUtRUTiy90kf57pipYiIvEpYBLQFS1FROJTwCSgK1qKiMSngElAV7QUEYlPk/wJ6IqWIiLxKWAS0hUtRUTiibWLLJye5WEze8DMWmr0e1no81CtfiIiMvPFnYN5L7AK+Jy7D03Uyd1fAtYRnaDyvVMvT0REGlXcgHkn8NTI1SVrcffvAU8C755KYSIi0tjiBsxK4IcJXvdHRNdzERGRJhU3YI4Ddid43d3Ay5OXIyIiM0XcgBkE5iV43XnAi8nLERGRmSJuwOwAXpPgdduBZ5OXIyIiM0XcgPkhcI6ZTXr+fzNbBfwR8IMp1CUiIg0ubsB8kegKk3eb2asm6mRmfwDcDZSAL029PBERaVSxvsnv7r1m9mngSmCLmX0LeBDYSRQ8i4A3Ae8CjgL+zt11DnsRkSYW+1Qx7v5pMzsEXAG8B7iooosBQ8An3P3q+pUoIiKNKNG5yNz9f5vZN4APAucCJxEFSz/wE+Amd/9V3asUEZGGk/hklyFArkihFhERmUF0PRgREUlF3LMpP2Vm/6OibYmZvT6dskREpNHF3YJZCrRWtH0AfddFREQmoF1kIiKSCgWMiIikQpdMTqhrSx/rNvbSPzDIwtYiazqW6RLKIiJVKGAS6NrSx9r1PQwOlQDoGxhk7foeAIWMiEiFJAHzBjMb8xjAzD5J9GXLSu7uf3/kpeXPuo29o+EyYnCoxLqNvQoYEZEKiQIm3Cp9quKxEwWOAzMqYPoHBhO1i4g0s7gBUxkiTWlha5G+KmGysLWYQTUiIvkW92zKChhgTceyMXMwAMWWAms6lmVYlYhIPukw5QQ6V7bxrlVtFMJcVMGMd61q0/yLiEgVqQSMmf2Bmd2dxmtnqWtLH/ds7qPkDkDJnXs299G1pS/jykRE8qeuAWNmrzCzm4Ae4J0x+t9oZnvM7LGytmPN7H4zezLcLyh7bq2ZbTezXjPrKGtfZWY94bnrrOJwt3qpdRSZiIiMFTtgzOy1ZvaAme0zs1+bWZeZ/V54bo6Z/QPQC1wM7AEujfGyNwPnVbRdBjzg7qcCD4THmNlpwIXA8rDOl8ysENa5HlgNnBpula9ZF9Um+Gu1i4g0s7hnUz6d6Jf9G4F5wALg7cCDZrYI+BnwP4HfAn8DnOLuX5zsdd39R8BzFc0XALeE5VuAzrL2O9z9oLs/DWwHzjKzk4D57v4zd3fg1rJ16qowwYbRRO0iIs0s7hbMx4E5wFeAs4Czga8Bi4AfA6cD/0AULJ939xenUNOJ7r4LINyfENrbgB1l/XaGtrawXNlelZmtNrNuM+veu3dvosJG5l7itouINLO434N5HbDJ3T9a1vaImb0aWAV8wt2vqXt1Y1U9W0CN9qrc/QbgBoD29vZEydA2wfdg2vQ9GBGRceJuwfwu8NMq7T8O91+rTzkA7A67vQj3e0L7TmBxWb9FQH9oX1Slve7WdCyj2FIY06bvwYiIVBc3YF4G7KvSvg/A3ZPta6ptA9GBAoT7e8vaLzSzo8zsZKLJ/IfDbrT9ZnZOOHrsfWXr1FXnyjaufucK2lqLGNGWy9XvXKHvwYiIVJHp2ZTN7Hai85sdZ2Y7gSuAa4C7zOxDwLPAuwHcfZuZ3QX8AjgEXOLuI8cMf5ToiLQicF+4paJzpb5YKSISh3mMCWozGwa2hlu5M4BXc/ior3Lu7h+aWnnpam9v9+7u7qzLEBFpKGa22d3bJ+uXZAvmjHCr5v1V2hzIdcCIiEh64gbMB1KtQkREZpy4Z1OutgtMRERkQjqbsoiIpCLWFoyZPTVJl2FgAHgUuNndf1y7e+O6vKuH2zftoOROwYyLzl7MVZ0rsi5LRCR34s7BLI3Z70zg/WZ2jbt/4shKyq/Lu3q47aFnRx+X3EcfK2RERMaKu4vs5ElupxCdn+yvgF3AZeWn058pbt+0I1G7iEgzizvJ/6sY3Z4mOj/ZPcA2oi8/bpxCbbmjk12KiMRX90l+d99JdKqWs+r92lnT6fpFROJL6yiyXwEvT+m1M3PR2YsTtYuINLO0AmY+MOMu89j+imMTtYuINLO0AuZPiS6fPKN87M6tidpFRJpZXQPGzBaY2VeBZcC36/naIiLSWOJ+0fLBSbrMIppz+X2ghegosuumVpqIiDSyuF+0fEPMfgeJTt3/1+5+4IgqEhGRGSFuwLxxkueHgd8Cve5+cGoliYjITBD3i5b/L+1CRERkZtHZlBNYMLclUbuISDNTwCTwmwNDidpFRJqZAiYBnSpGRCQ+BUwCOtmliEh8CpgEtAUjIhKfAiYBbcGIiMSngBERkVQoYEREJBUKGBERSYUCRkREUqGAERGRVChgEjj3lOpXrpyoXUSkmSlgEvjGh187LkzOPeVYvvHh12ZUkYhIfsU9Xb8EChMRkXgUMAktvexfx7U9c81bMqhERCTftIssgWrhUqtdRKSZKWBERCQVuQ0YM3vGzHrMbKuZdYe2Y83sfjN7MtwvKOu/1sy2m1mvmXVkV7mIiECOAyZ4o7uf4e7t4fFlwAPufirwQHiMmZ0GXAgsB84DvmRmhSwKFhGRSN4DptIFwC1h+Rags6z9Dnc/6O5PA9uBs6a/PBERGZHngHHg+2a22cxWh7YT3X0XQLg/IbS3ATvK1t0Z2sYxs9Vm1m1m3Xv37k2pdBERyfNhyue6e7+ZnQDcb2ZP1Ohb7YpfVS/S4u43ADcAtLe3J7qQy5yC8WJp/CpzCrrgmIhIpdxuwbh7f7jfA3ybaJfXbjM7CSDc7wnddwKLy1ZfBPTXu6YnPnP+uDCZUzCe+Mz59X4rEZGGl8stGDM7Gpjl7vvD8n8DPg1sAC4Grgn394ZVNgDfNLPPAwuBU4GH06hNYSIiEk8uAwY4Efi2Rde6nw18092/Z2aPAHeZ2YeAZ4F3A7j7NjO7C/gFcAi4xN1L2ZQuIiKQ04Bx96eAV1dp/zXwpgnW+QzwmZRLo2tLH+s29tI/MMjC1iJrOpbRubLq8QQiIk0tlwGTV11b+lhz96MMDUcT/X0Dg6y5+1EAhYyISIXcTvLn0ZUbto2Gy4ihYefKDdsyqkhEJL8UMAkMDA4lahcRaWYKGBERSYUCJoEFc1sStYuINDMFTAJXvG05hVljv2hZmGVc8bblGVUkIpJfCpiEKv/B9A8oIlKdfj8msG5jb9WjyNZt7M2oIhGR/FLAJNA/MJioXUSkmSlgEljYWkzULiLSzBQwCazpWEaxZeyFMostBdZ0LMuoIhGR/NKpYhIYOR2MzkUmIjI5BUxCnSvbFCgiIjFoF5mIiKRCASMiIqlQwIiISCo0B5PQ5V093L5pByV3CmZcdPZirupckXVZIiK5o4BJ4PKuHm576NnRxyX30ccKGRGRsbSLLIHbN+1I1C4i0swUMAmU3BO1i4g0MwWMiIikQgEjIiKpUMDUyeVdPVmXICKSKwqYOtFEv4jIWAqYOtFEv4jIWAqYOimYZV2CiEiuKGDq5Lh5LVmXICKSKwqYOtm9/6WsSxARyRUFjIiIpEIBIyIiqVDA1MmJx7ws6xJERHJFAVMnu/e/pC9bioiU0en66+i2h54dPX1/a7GFK9++nM6VbRlXJSKSDQVMSgYGh/jYnVv52J1bKZhRcqettciajmUKHRFpCjMqYMzsPOCfgALwVXe/Jo336Zj/b1x64u30DP4eL5SKPD9c5IXhIi+U5o4uP18KbWH5+eG59A8Mj4ZOozADHCrPU9BabMEMfnNgaDRAF8xtwT0K13GvA/xOsYWh0jAvvFQabV8wt4W3nH4SP3hiL/0DgyysEcJdW/pYt7E3Vr8rN2wbrWPB3BaueFu0Ndm1pY9PfWcbvzkwvkZgzB8BI+/XNzA4rX8kxB1n3jXT1V+z+llJarp/tsxnyClOzKwA/Afwp8BO4BHgInf/xUTrtLe3e3d3d+z3WHrZvwLwz0uu5i2tP51SvfUw5IWKgIuC7PBysWJ57mjYVT7/wnCREoWshwRAsaXA1e9cMeYHv2tLH2vX9zA4VJq035q7H2VoeOzPdUvB+LPXLObOR3YwVKr9M19sKfCuVW3cs7lvzPvVet96iTvOvKu8+uuIPz9nyYwLmWqf2Yg8fXb1/Nkys83u3j5pvxkUMK8FrnT3jvB4LYC7Xz3ROkcaMEdqFiXmzjrI0bMOMK8wyNGzotvI8rxZgxxdOFC2PDhmed6Y9Q5w1KxDU6onTcNuUYCF8Dq8HG3lPV+aW9F+ePn54bkcfXQrX//In0DLMTD7GM5d9xP6BgbHvU9ba5GfXvbHo4/PvebBqv2A0b8s45isb+X71stE9af1fmk5Ze13q/77Fcz45dXnZ1BRemr9zEF+Prt6/mzFDZiZtIusDSg/pfFO4OzKTma2GlgNsGTJkumpLBimwPPDc3l+eC67c5cNTtEOhgA7EAJtbABWC8Z5sw5U9ImWi7MOMr9wgPmFA0de0obDiz9dAkz0cX0zZr8yL5Tm8MJwkf1ha2582I1vLw/JFw4U4cU/hNnHQGFO2Jc4df0T/KKaqD2vmunqr5N9Nnn57LL42ZpJAVPtf/i4n2Z3vwG4AaItmLSLahzGoM9h8NAc9rIg62LG/lXlzhuv3chv9z83uiU3EmSLjynx9295BQzth6H9fPOnj+FD+6KwKwvJcYFZeJGjCy9yAr858iLXf7g+gy3z9OkwOHzUuDm8UmEe/OTro1t0tBwzdnn2MdAyf/zzhbl1C78kJtoCnIknhV3YWqy5BbOwtTiN1UxsojrTrG8mBcxOYHHZ40VAf0a1yBQUWwqs6Vh2uMGMSztWsHZ9D8+9NHb/cef5K+CUw/uP5x7KYA6m9BIceh4O7R8NOob2HX5ceV+tLdz70H6Ksw5SnHWQ4xkY+8bPbor3D5imWS+rEmzjg+6fz3yenzz90riDXv54xSlwoC/0nQfW+F/FW9OxrOYczJif5QxVqzPt+mbSHMxsokn+NwF9RJP873H3bROtk3QOBqY+D9NodBRZgx9FNnwIDr1QPfBqBF31tn3gudu3e5gVKrbu5k+wpVdrK7BseVb8v7+b7SiyppvkBzCz84EvEB2mfKO7f6ZW/yMJGBGpEx8O4ZdsK+/w8r6x7cMHsx5RDRY/4Ko91zJ/7POFbE9N1YyT/Lj7d4HvZl2HiMRgsw7/Is0bdygNxgy/fZP3Kx0I/fZBHub8X/VxWHlt6m8zowJGRKQuzGD23OjGiVlXM17pYI2tvH2TbwW2nj4tZSpgREQaTeGo6MZxWVdSU+MfwiEiIrmkgBERkVQoYEREJBUKGBERSYUCRkREUqGAERGRVChgREQkFQoYERFJxYw6F1lSZrYX+NURrn4c8J91LCdLM2UsM2UcoLHk1UwZy1TH8Qp3P36yTk0dMFNhZt1xTvbWCGbKWGbKOEBjyauZMpbpGod2kYmISCoUMCIikgoFzJG7IesC6mimjGWmjAM0lryaKWOZlnFoDkZERFKhLRgREUmFAkZERFKhgEnIzM4zs14z225ml2VdTzkze8bMesxsq5l1h7Zjzex+M3sy3C8o6782jKPXzDrK2leF19luZteZmYX2o8zsztC+ycyW1qnuG81sj5k9VtY2LXWb2cXhPZ40s4tTGsuVZtYXPpetZnZ+3sdiZovN7Adm9riZbTOzS0N7w30uNcbSiJ/LHDN72MweDWP5VGjP5+fi7rrFvAEF4JfAK4GXAY8Cp2VdV1l9zwDHVbR9FrgsLF8GXBuWTwv1HwWcHMZVCM89DLwWMOA+4M2h/b8DXw7LFwJ31qnu1wNnAo9NZ93AscBT4X5BWF6QwliuBP6mSt/cjgU4CTgzLB8D/Eeot+E+lxpjacTPxYB5YbkF2ASck9fPRVswyZwFbHf3p9z9JeAO4IKMa5rMBcAtYfkWoLOs/Q53P+juTwPbgbPM7CRgvrv/zKOfqlsr1hl5rW8Bbxr5q2cq3P1HwHMZ1N0B3O/uz7n7b4D7gfNSGMtEcjsWd9/l7v8elvcDjwNtNODnUmMsE8nzWNzdnw8PW8LNyennooBJpg3YUfZ4J7V/UKebA983s81mtjq0nejuuyD6jwacENonGktbWK5sH7OOux8Cfgu8PIVxTFfd0/l5/qWZ/dyiXWgjuy8aYixhF8lKor+WG/pzqRgLNODnYmYFM9sK7CH6hZ/bz0UBk0y1v9bzdJz3ue5+JvBm4BIze32NvhONpdYY8zD+etY9XeO5HjgFOAPYBXxuCnVN61jMbB5wD/Axd99Xq+sR1JX1WBryc3H3krufASwi2hr5wxrdMx2LAiaZncDisseLgP6MahnH3fvD/R7g20S79HaHzWHC/Z7QfaKx7AzLle1j1jGz2cDvEH93UFLTUfe0fJ7uvjv8UhgG/oXocxlTV8X752IsZtZC9Av5G+6+PjQ35OdSbSyN+rmMcPcB4IdEu6ny+bkc6WRTM96A2UQTWydzeJJ/edZ1hdqOBo4pW/638IO3jrGTf58Ny8sZO/n3FIcn/x4hmjgcmfw7P7RfwtjJv7vqWP9Sxk6Mp1430WTl00QTlgvC8rEpjOWksuW/ItonnuuxhPe9FfhCRXvDfS41xtKIn8vxQGtYLgI/Bt6a188l81+MjXYDzic6CuWXwCeyrqesrleGH6RHgW0jtRHtO30AeDLcH1u2zifCOHoJR5CE9nbgsfDcFzl8xoc5wN1EE4UPA6+sU+23E+2iGCL6K+lD01U38MHQvh34QEpj+TrQA/wc2MDYX2y5HAvwOqLdHz8Htobb+Y34udQYSyN+LqcDW0LNjwF/N53/z5OORaeKERGRVGgORkREUqGAERGRVChgREQkFQoYERFJhQJGRERSoYAREZFUKGBEUmRm7WZ2k5k9ZWaDZrYvnGr9WjP73Sr9329mbmbvz6BckbpSwIikwCLXEn1b+s+BJ4DrgK8BLwIfB540s7dmV6VIumZnXYDIDPVJohB5Bniru28rf9LM3gXcBqw3s//i0RlxRWYUbcGI1Fk4JfwniU4X8/bKcAFw93uIzn/VAnwlrPdD4KbQ5aawq2zkttTMrgnL75vgfVeF579T/1GJJKctGJH6+wDR/6273L2nRr+vEgXRq83sHOBmYIDogk/3Ep0za8QA8GVgDfARopM3VvpIuP/KEVcuUkcKGJH6e124/7+1Orn7obDV8h7g9e7+2XCB0AuALne/uWKVATO7D3iLma0oD69wrZOLiC4IdV9dRiEyRdpFJlJ/J4X7HTV7je2zqGavw64P96sr2t8LzAO+6u6lmK8lkioFjEj9jVz5L86pykf6zon52vcRXYfjL8xsbln7aqBEtNtNJBcUMCL1tyvcL4nRd2TLZW+cF/bo6otfIbrK4J9BNLkPnAl8x8NVTUXyQAEjUn8/Cfd/UquTmRWAN4SHmxO8/o3AQQ5P6mtyX3JJASNSfzcCh4B3mNnyGv0+CCwkut7590LbyPxJYaKV3H0v8C3gbDM7l2hy/xng+1MrW6S+FDAidebuzwBXEX3HZYOZnVbZx8w6gX8KD//W3Q+E5V+H+8l2r41M9t9JNLl/Q9h9JpIbumSySAosOt74WqLvrRwCNgLbiELnj4CzQ9fPuvvflq23ANgZ1rkV2B2e+j/u/tuK99gKvJroC52L3X03IjmigBFJkZm9BrgE+K9Ehy8fFZ7aBbzP3cd9V8bMzgOuAFYAR4fmk8OWUXm/S4EvAN9y93enUb/IVOiLliIpcvdHgPePPDazY4gOAjiNaNdWtXW+x+E5mVpWhvsvT61KkXRoC0ZkmpnZYmAT8HLgghAoR/IaTwJPActd/5Elh7QFIzLN3H2Hmb0ZeAdwupk96O4vxVnXzN4D/D5wIdHutk8qXCSvtAUj0kDCucteT3SKmX909y9kWpBIDQoYERFJhb4HIyIiqVDAiIhIKhQwIiKSCgWMiIikQgEjIiKp+P/4/0NRpXzPeAAAAABJRU5ErkJggg==\n",
>>>>>>> 5fa4214b3fb63e79116b31f9d8727e4621b87472
      "text/plain": [
       "<Figure size 432x288 with 1 Axes>"
      ]
     },
     "metadata": {
      "needs_background": "light"
     },
     "output_type": "display_data"
    }
   ],
   "source": [
    "plt.scatter(X,Y)\n",
<<<<<<< HEAD
    "# yhat = -0.0003*x1+21.7330\n",
    "# fig = plt.plot(X,Y,lw=4,c='orange',label='regression line')\n",
=======
    "yhat = -0.0003*X+21.7330\n",
    "fig = plt.plot(X,yhat,lw=1,c='orange',label='regression line')\n",
>>>>>>> 5fa4214b3fb63e79116b31f9d8727e4621b87472
    "plt.xlabel('Qty',fontsize=20)\n",
    "plt.ylabel('URFC',fontsize= 20)\n",
    "plt.show()"
   ]
  },
  {
   "cell_type": "code",
<<<<<<< HEAD
   "execution_count": 36,
   "metadata": {},
   "outputs": [],
=======
   "execution_count": 64,
   "metadata": {},
   "outputs": [
    {
     "ename": "AttributeError",
     "evalue": "'numpy.ndarray' object has no attribute 'values'",
     "output_type": "error",
     "traceback": [
      "\u001b[0;31m---------------------------------------------------------------------------\u001b[0m",
      "\u001b[0;31mAttributeError\u001b[0m                            Traceback (most recent call last)",
      "\u001b[0;32m<ipython-input-64-a870a06bda0f>\u001b[0m in \u001b[0;36m<module>\u001b[0;34m\u001b[0m\n\u001b[0;32m----> 1\u001b[0;31m \u001b[0mY\u001b[0m \u001b[0;34m=\u001b[0m \u001b[0mY\u001b[0m\u001b[0;34m.\u001b[0m\u001b[0mvalues\u001b[0m\u001b[0;34m.\u001b[0m\u001b[0mreshape\u001b[0m\u001b[0;34m(\u001b[0m\u001b[0;34m-\u001b[0m\u001b[0;36m1\u001b[0m\u001b[0;34m,\u001b[0m\u001b[0;36m1\u001b[0m\u001b[0;34m)\u001b[0m\u001b[0;34m\u001b[0m\u001b[0;34m\u001b[0m\u001b[0m\n\u001b[0m",
      "\u001b[0;31mAttributeError\u001b[0m: 'numpy.ndarray' object has no attribute 'values'"
     ]
    }
   ],
>>>>>>> 5fa4214b3fb63e79116b31f9d8727e4621b87472
   "source": [
    "Y = Y.values.reshape(-1,1)"
   ]
  },
  {
   "cell_type": "code",
<<<<<<< HEAD
   "execution_count": 37,
=======
   "execution_count": 62,
>>>>>>> 5fa4214b3fb63e79116b31f9d8727e4621b87472
   "metadata": {},
   "outputs": [
    {
     "data": {
      "text/plain": [
       "(array([[  86.],\n",
       "        [ 710.],\n",
       "        [ 100.],\n",
       "        ...,\n",
       "        [  12.],\n",
       "        [3032.],\n",
       "        [  12.]]),\n",
       " array([[17.95],\n",
       "        [ 4.33],\n",
       "        [23.65],\n",
       "        ...,\n",
       "        [ 9.5 ],\n",
       "        [ 2.9 ],\n",
       "        [ 9.5 ]]))"
      ]
     },
<<<<<<< HEAD
     "execution_count": 37,
=======
     "execution_count": 62,
>>>>>>> 5fa4214b3fb63e79116b31f9d8727e4621b87472
     "metadata": {},
     "output_type": "execute_result"
    }
   ],
   "source": [
    "X,Y"
   ]
  },
  {
   "cell_type": "code",
<<<<<<< HEAD
   "execution_count": 38,
   "metadata": {},
   "outputs": [
    {
     "data": {
      "image/png": "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\n",
=======
   "execution_count": 63,
   "metadata": {},
   "outputs": [
    {
     "name": "stdout",
     "output_type": "stream",
     "text": [
      "1e-15\n",
      "1e-10\n",
      "1e-08\n"
     ]
    },
    {
     "data": {
      "image/png": "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\n",
>>>>>>> 5fa4214b3fb63e79116b31f9d8727e4621b87472
      "text/plain": [
       "<Figure size 720x432 with 1 Axes>"
      ]
     },
     "metadata": {
      "needs_background": "light"
     },
     "output_type": "display_data"
    }
   ],
   "source": [
    "from sklearn.pipeline import Pipeline\n",
    "from sklearn.preprocessing import PolynomialFeatures\n",
    "\n",
    "def get_preds_ridge(X, Y, alpha):\n",
    "    model = Pipeline([\n",
    "        ('poly_feats', PolynomialFeatures(degree=16)),\n",
    "        ('ridge', Ridge(alpha=alpha))\n",
    "    ])\n",
<<<<<<< HEAD
    "    model.fit(X, Y)\n",
    "    return model.predict(X)\n",
    "\n",
    "alphas = [0, 20, 200]\n",
    "cs = ['r', 'g', 'b']\n",
=======
    "    print(alpha)\n",
    "    model.fit(X, Y)\n",
    "    return model.predict(X)\n",
    "\n",
    "alphas = [1e-15,1e-10,1e-8,1e-3,1e-2,1,5,10,20,30,35,40,45,50,55,100]\n",
    "cs = [ 'b','g','r']\n",
>>>>>>> 5fa4214b3fb63e79116b31f9d8727e4621b87472
    "\n",
    "plt.figure(figsize=(10, 6))\n",
    "plt.plot(X, Y, 'b+', label='Datapoints')\n",
    "\n",
    "for alpha, c in zip(alphas, cs):\n",
    "    preds = get_preds_ridge(X, Y, alpha)\n",
    "    # Plot\n",
    "    plt.plot(sorted(X[:, 0]), preds[np.argsort(X[:, 0])], c, label='Alpha: {}'.format(alpha))\n",
    "\n",
    "plt.legend()\n",
    "plt.show()"
   ]
  },
  {
   "cell_type": "code",
<<<<<<< HEAD
   "execution_count": 42,
=======
   "execution_count": 22,
>>>>>>> 5fa4214b3fb63e79116b31f9d8727e4621b87472
   "metadata": {},
   "outputs": [
    {
     "data": {
      "text/plain": [
<<<<<<< HEAD
       "array([[-2342.06554035]])"
      ]
     },
     "execution_count": 42,
=======
       "array([[ 9.74064673e+02],\n",
       "       [ 9.74064673e+02],\n",
       "       [ 9.74064673e+02],\n",
       "       ...,\n",
       "       [-5.85330989e+06],\n",
       "       [-9.43912793e+06],\n",
       "       [ 2.25869526e+05]])"
      ]
     },
     "execution_count": 22,
>>>>>>> 5fa4214b3fb63e79116b31f9d8727e4621b87472
     "metadata": {},
     "output_type": "execute_result"
    }
   ],
<<<<<<< HEAD
=======
   "source": [
    "preds[np.argsort(X[:, 0])]"
   ]
  },
  {
   "cell_type": "code",
   "execution_count": null,
   "metadata": {},
   "outputs": [],
>>>>>>> 5fa4214b3fb63e79116b31f9d8727e4621b87472
   "source": []
  }
 ],
 "metadata": {
  "kernelspec": {
   "display_name": "Python 3",
   "language": "python",
   "name": "python3"
  },
  "language_info": {
   "codemirror_mode": {
    "name": "ipython",
    "version": 3
   },
   "file_extension": ".py",
   "mimetype": "text/x-python",
   "name": "python",
   "nbconvert_exporter": "python",
   "pygments_lexer": "ipython3",
<<<<<<< HEAD
   "version": "3.7.6"
=======
   "version": "3.8.5"
>>>>>>> 5fa4214b3fb63e79116b31f9d8727e4621b87472
  }
 },
 "nbformat": 4,
 "nbformat_minor": 4
}
