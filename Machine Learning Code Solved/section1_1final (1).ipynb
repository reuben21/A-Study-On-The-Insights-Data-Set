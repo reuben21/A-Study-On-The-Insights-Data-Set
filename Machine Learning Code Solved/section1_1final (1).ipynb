{
 "cells": [
  {
   "cell_type": "code",
   "execution_count": 4,
   "metadata": {},
   "outputs": [],
   "source": [
    "import numpy as np\n",
    "import pandas as pd"
   ]
  },
  {
   "cell_type": "code",
   "execution_count": 5,
   "metadata": {},
   "outputs": [
    {
     "data": {
      "text/plain": "Index(['Date', 'HS Code', 'Product', 'Specific Product', 'Port of Origin',\n       'Country of Destination', 'Port of Destination', 'Value(USD)',\n       'Std Qty', 'Std Unit', 'Std Unit Price(USD)', 'Qty', 'Unit',\n       'Value In FC', 'Unit Rate In FC', 'Unit Rate Currency', 'Value(INR)',\n       'Shipment Mode', 'Invoice Value INR'],\n      dtype='object')"
     },
     "execution_count": 5,
     "metadata": {},
     "output_type": "execute_result"
    }
   ],
   "source": [
    "df = pd.read_csv('Insights.csv')\n",
    "df.columns"
   ]
  },
  {
   "cell_type": "code",
   "execution_count": 6,
   "metadata": {},
   "outputs": [
    {
     "data": {
      "text/plain": "Date                      0\nHS Code                   0\nProduct                   0\nSpecific Product          0\nPort of Origin            0\nCountry of Destination    0\nPort of Destination       0\nValue(USD)                0\nStd Qty                   0\nStd Unit                  0\nStd Unit Price(USD)       0\nQty                       0\nUnit                      0\nValue In FC               0\nUnit Rate In FC           0\nUnit Rate Currency        0\nValue(INR)                0\nShipment Mode             0\nInvoice Value INR         0\ndtype: int64"
     },
     "execution_count": 6,
     "metadata": {},
     "output_type": "execute_result"
    }
   ],
   "source": [
    "df.dropna(inplace = True)\n",
    "df.isna().sum()"
   ]
  },
  {
   "cell_type": "code",
   "execution_count": 7,
   "metadata": {},
   "outputs": [],
   "source": [
    "df_filtered = df.copy()"
   ]
  },
  {
   "cell_type": "code",
   "execution_count": 8,
   "metadata": {},
   "outputs": [],
   "source": [
    "df_most_performing = df_filtered.groupby('Product').sum()"
   ]
  },
  {
   "cell_type": "code",
   "execution_count": 9,
   "metadata": {},
   "outputs": [
    {
     "data": {
      "text/plain": "                                                     HS Code  Value(USD)  \\\nProduct                                                                    \n\"My Milestones Diaper Bag Diva Tote - Pi nk Geo...  42022210      181.80   \n\"My Milestones Diaper Bag Duo Detach - Navy Blu...  42022210      346.60   \n\"My Milestones Diaper Bag Duo Detach - Orange F...  42022210      221.04   \n\"My Milestones Diaper Bag Spectra - Blac k Geom...  42022210      333.30   \n\"My Milestones Diaper Bag Studio - Poppy Red / ...  42022210      545.40   \n...                                                      ...         ...   \nXCO TEAM BAG MADE OF 100%KNITTED POLYESTER(1 PC...  42021290      232.00   \nZALAE SYNAELLE BAG OUTER: 70% COTTON 3 0% POLYE...  42022290     8258.09   \nZENO - BLACK NDM LEATHER EXECUTIVE BAG              42021150      181.88   \nZENO - BROWN NDM LEATHER EXECUTIVE BAG              42021150      109.13   \nZIPPER A4 TOTE BAGS SIZE : 26 X 42 CMS              42022220     2034.72   \n\n                                                    Std Qty  \\\nProduct                                                       \n\"My Milestones Diaper Bag Diva Tote - Pi nk Geo...     12.0   \n\"My Milestones Diaper Bag Duo Detach - Navy Blu...     20.0   \n\"My Milestones Diaper Bag Duo Detach - Orange F...     12.0   \n\"My Milestones Diaper Bag Spectra - Blac k Geom...     22.0   \n\"My Milestones Diaper Bag Studio - Poppy Red / ...     36.0   \n...                                                     ...   \nXCO TEAM BAG MADE OF 100%KNITTED POLYESTER(1 PC...     20.0   \nZALAE SYNAELLE BAG OUTER: 70% COTTON 3 0% POLYE...    800.0   \nZENO - BLACK NDM LEATHER EXECUTIVE BAG                  5.0   \nZENO - BROWN NDM LEATHER EXECUTIVE BAG                  3.0   \nZIPPER A4 TOTE BAGS SIZE : 26 X 42 CMS               1296.0   \n\n                                                    Std Unit Price(USD)  \\\nProduct                                                                   \n\"My Milestones Diaper Bag Diva Tote - Pi nk Geo...                15.15   \n\"My Milestones Diaper Bag Duo Detach - Navy Blu...                17.33   \n\"My Milestones Diaper Bag Duo Detach - Orange F...                18.42   \n\"My Milestones Diaper Bag Spectra - Blac k Geom...                15.15   \n\"My Milestones Diaper Bag Studio - Poppy Red / ...                15.15   \n...                                                                 ...   \nXCO TEAM BAG MADE OF 100%KNITTED POLYESTER(1 PC...                11.60   \nZALAE SYNAELLE BAG OUTER: 70% COTTON 3 0% POLYE...                10.32   \nZENO - BLACK NDM LEATHER EXECUTIVE BAG                            36.38   \nZENO - BROWN NDM LEATHER EXECUTIVE BAG                            36.38   \nZIPPER A4 TOTE BAGS SIZE : 26 X 42 CMS                             1.57   \n\n                                                       Qty  Value In FC  \\\nProduct                                                                   \n\"My Milestones Diaper Bag Diva Tote - Pi nk Geo...    12.0       221.04   \n\"My Milestones Diaper Bag Duo Detach - Navy Blu...    20.0       346.60   \n\"My Milestones Diaper Bag Duo Detach - Orange F...    12.0       221.04   \n\"My Milestones Diaper Bag Spectra - Blac k Geom...    22.0       333.30   \n\"My Milestones Diaper Bag Studio - Poppy Red / ...    36.0       192.24   \n...                                                    ...          ...   \nXCO TEAM BAG MADE OF 100%KNITTED POLYESTER(1 PC...    20.0       232.00   \nZALAE SYNAELLE BAG OUTER: 70% COTTON 3 0% POLYE...   800.0      7520.00   \nZENO - BLACK NDM LEATHER EXECUTIVE BAG                 5.0       180.00   \nZENO - BROWN NDM LEATHER EXECUTIVE BAG                 3.0       126.00   \nZIPPER A4 TOTE BAGS SIZE : 26 X 42 CMS              1296.0      2034.72   \n\n                                                    Unit Rate In FC  \\\nProduct                                                               \n\"My Milestones Diaper Bag Diva Tote - Pi nk Geo...            18.42   \n\"My Milestones Diaper Bag Duo Detach - Navy Blu...            17.33   \n\"My Milestones Diaper Bag Duo Detach - Orange F...            18.42   \n\"My Milestones Diaper Bag Spectra - Blac k Geom...            15.15   \n\"My Milestones Diaper Bag Studio - Poppy Red / ...             5.34   \n...                                                             ...   \nXCO TEAM BAG MADE OF 100%KNITTED POLYESTER(1 PC...            11.60   \nZALAE SYNAELLE BAG OUTER: 70% COTTON 3 0% POLYE...             9.40   \nZENO - BLACK NDM LEATHER EXECUTIVE BAG                        36.00   \nZENO - BROWN NDM LEATHER EXECUTIVE BAG                        42.00   \nZIPPER A4 TOTE BAGS SIZE : 26 X 42 CMS                         1.57   \n\n                                                    Value(INR)  \\\nProduct                                                          \n\"My Milestones Diaper Bag Diva Tote - Pi nk Geo...    12762.37   \n\"My Milestones Diaper Bag Duo Detach - Navy Blu...    24331.31   \n\"My Milestones Diaper Bag Duo Detach - Orange F...    15517.00   \n\"My Milestones Diaper Bag Spectra - Blac k Geom...    23397.65   \n\"My Milestones Diaper Bag Studio - Poppy Red / ...    38287.07   \n...                                                        ...   \nXCO TEAM BAG MADE OF 100%KNITTED POLYESTER(1 PC...    16344.28   \nZALAE SYNAELLE BAG OUTER: 70% COTTON 3 0% POLYE...   580543.99   \nZENO - BLACK NDM LEATHER EXECUTIVE BAG                12722.32   \nZENO - BROWN NDM LEATHER EXECUTIVE BAG                 7633.60   \nZIPPER A4 TOTE BAGS SIZE : 26 X 42 CMS               142328.69   \n\n                                                    Invoice Value INR  \nProduct                                                                \n\"My Milestones Diaper Bag Diva Tote - Pi nk Geo...                0.0  \n\"My Milestones Diaper Bag Duo Detach - Navy Blu...                0.0  \n\"My Milestones Diaper Bag Duo Detach - Orange F...                0.0  \n\"My Milestones Diaper Bag Spectra - Blac k Geom...                0.0  \n\"My Milestones Diaper Bag Studio - Poppy Red / ...                0.0  \n...                                                               ...  \nXCO TEAM BAG MADE OF 100%KNITTED POLYESTER(1 PC...                0.0  \nZALAE SYNAELLE BAG OUTER: 70% COTTON 3 0% POLYE...                0.0  \nZENO - BLACK NDM LEATHER EXECUTIVE BAG                            0.0  \nZENO - BROWN NDM LEATHER EXECUTIVE BAG                            0.0  \nZIPPER A4 TOTE BAGS SIZE : 26 X 42 CMS                            0.0  \n\n[3814 rows x 9 columns]",
      "text/html": "<div>\n<style scoped>\n    .dataframe tbody tr th:only-of-type {\n        vertical-align: middle;\n    }\n\n    .dataframe tbody tr th {\n        vertical-align: top;\n    }\n\n    .dataframe thead th {\n        text-align: right;\n    }\n</style>\n<table border=\"1\" class=\"dataframe\">\n  <thead>\n    <tr style=\"text-align: right;\">\n      <th></th>\n      <th>HS Code</th>\n      <th>Value(USD)</th>\n      <th>Std Qty</th>\n      <th>Std Unit Price(USD)</th>\n      <th>Qty</th>\n      <th>Value In FC</th>\n      <th>Unit Rate In FC</th>\n      <th>Value(INR)</th>\n      <th>Invoice Value INR</th>\n    </tr>\n    <tr>\n      <th>Product</th>\n      <th></th>\n      <th></th>\n      <th></th>\n      <th></th>\n      <th></th>\n      <th></th>\n      <th></th>\n      <th></th>\n      <th></th>\n    </tr>\n  </thead>\n  <tbody>\n    <tr>\n      <th>\"My Milestones Diaper Bag Diva Tote - Pi nk Geometric / Blue Stripes / Lavender C hecks\"</th>\n      <td>42022210</td>\n      <td>181.80</td>\n      <td>12.0</td>\n      <td>15.15</td>\n      <td>12.0</td>\n      <td>221.04</td>\n      <td>18.42</td>\n      <td>12762.37</td>\n      <td>0.0</td>\n    </tr>\n    <tr>\n      <th>\"My Milestones Diaper Bag Duo Detach - Navy Blue / Coffee / Grey Red / Grey Gre en\"</th>\n      <td>42022210</td>\n      <td>346.60</td>\n      <td>20.0</td>\n      <td>17.33</td>\n      <td>20.0</td>\n      <td>346.60</td>\n      <td>17.33</td>\n      <td>24331.31</td>\n      <td>0.0</td>\n    </tr>\n    <tr>\n      <th>\"My Milestones Diaper Bag Duo Detach - Orange Floral / Pink Blossom / Coffee Ci trus\"</th>\n      <td>42022210</td>\n      <td>221.04</td>\n      <td>12.0</td>\n      <td>18.42</td>\n      <td>12.0</td>\n      <td>221.04</td>\n      <td>18.42</td>\n      <td>15517.00</td>\n      <td>0.0</td>\n    </tr>\n    <tr>\n      <th>\"My Milestones Diaper Bag Spectra - Blac k Geometric / Beige Checks / Brown Plaid / Grey Mosaic\"</th>\n      <td>42022210</td>\n      <td>333.30</td>\n      <td>22.0</td>\n      <td>15.15</td>\n      <td>22.0</td>\n      <td>333.30</td>\n      <td>15.15</td>\n      <td>23397.65</td>\n      <td>0.0</td>\n    </tr>\n    <tr>\n      <th>\"My Milestones Diaper Bag Studio - Poppy Red / Denim Blue / Khaki / Brick Red / Wine / Moss Green\"</th>\n      <td>42022210</td>\n      <td>545.40</td>\n      <td>36.0</td>\n      <td>15.15</td>\n      <td>36.0</td>\n      <td>192.24</td>\n      <td>5.34</td>\n      <td>38287.07</td>\n      <td>0.0</td>\n    </tr>\n    <tr>\n      <th>...</th>\n      <td>...</td>\n      <td>...</td>\n      <td>...</td>\n      <td>...</td>\n      <td>...</td>\n      <td>...</td>\n      <td>...</td>\n      <td>...</td>\n      <td>...</td>\n    </tr>\n    <tr>\n      <th>XCO TEAM BAG MADE OF 100%KNITTED POLYESTER(1 PC EACH KIT)</th>\n      <td>42021290</td>\n      <td>232.00</td>\n      <td>20.0</td>\n      <td>11.60</td>\n      <td>20.0</td>\n      <td>232.00</td>\n      <td>11.60</td>\n      <td>16344.28</td>\n      <td>0.0</td>\n    </tr>\n    <tr>\n      <th>ZALAE SYNAELLE BAG OUTER: 70% COTTON 3 0% POLYESTER LINING: 100% POLYESTER HAND LE: 100% FAUX SUADE</th>\n      <td>42022290</td>\n      <td>8258.09</td>\n      <td>800.0</td>\n      <td>10.32</td>\n      <td>800.0</td>\n      <td>7520.00</td>\n      <td>9.40</td>\n      <td>580543.99</td>\n      <td>0.0</td>\n    </tr>\n    <tr>\n      <th>ZENO - BLACK NDM LEATHER EXECUTIVE BAG</th>\n      <td>42021150</td>\n      <td>181.88</td>\n      <td>5.0</td>\n      <td>36.38</td>\n      <td>5.0</td>\n      <td>180.00</td>\n      <td>36.00</td>\n      <td>12722.32</td>\n      <td>0.0</td>\n    </tr>\n    <tr>\n      <th>ZENO - BROWN NDM LEATHER EXECUTIVE BAG</th>\n      <td>42021150</td>\n      <td>109.13</td>\n      <td>3.0</td>\n      <td>36.38</td>\n      <td>3.0</td>\n      <td>126.00</td>\n      <td>42.00</td>\n      <td>7633.60</td>\n      <td>0.0</td>\n    </tr>\n    <tr>\n      <th>ZIPPER A4 TOTE BAGS SIZE : 26 X 42 CMS</th>\n      <td>42022220</td>\n      <td>2034.72</td>\n      <td>1296.0</td>\n      <td>1.57</td>\n      <td>1296.0</td>\n      <td>2034.72</td>\n      <td>1.57</td>\n      <td>142328.69</td>\n      <td>0.0</td>\n    </tr>\n  </tbody>\n</table>\n<p>3814 rows × 9 columns</p>\n</div>"
     },
     "execution_count": 9,
     "metadata": {},
     "output_type": "execute_result"
    }
   ],
   "source": [
    "df_most_performing"
   ]
  },
  {
   "cell_type": "code",
   "execution_count": 10,
   "metadata": {},
   "outputs": [],
   "source": [
    "df_most_performing['Profit'] = df_most_performing['Value(INR)']-(df_most_performing['Qty']*df_most_performing['Value(USD)'])"
   ]
  },
  {
   "cell_type": "code",
   "execution_count": 11,
   "metadata": {},
   "outputs": [
    {
     "data": {
      "text/plain": "                                                     HS Code  Value(USD)  \\\nProduct                                                                    \n\"My Milestones Diaper Bag Diva Tote - Pi nk Geo...  42022210      181.80   \n\"My Milestones Diaper Bag Duo Detach - Navy Blu...  42022210      346.60   \n\"My Milestones Diaper Bag Duo Detach - Orange F...  42022210      221.04   \n\"My Milestones Diaper Bag Spectra - Blac k Geom...  42022210      333.30   \n\"My Milestones Diaper Bag Studio - Poppy Red / ...  42022210      545.40   \n...                                                      ...         ...   \nXCO TEAM BAG MADE OF 100%KNITTED POLYESTER(1 PC...  42021290      232.00   \nZALAE SYNAELLE BAG OUTER: 70% COTTON 3 0% POLYE...  42022290     8258.09   \nZENO - BLACK NDM LEATHER EXECUTIVE BAG              42021150      181.88   \nZENO - BROWN NDM LEATHER EXECUTIVE BAG              42021150      109.13   \nZIPPER A4 TOTE BAGS SIZE : 26 X 42 CMS              42022220     2034.72   \n\n                                                    Std Qty  \\\nProduct                                                       \n\"My Milestones Diaper Bag Diva Tote - Pi nk Geo...     12.0   \n\"My Milestones Diaper Bag Duo Detach - Navy Blu...     20.0   \n\"My Milestones Diaper Bag Duo Detach - Orange F...     12.0   \n\"My Milestones Diaper Bag Spectra - Blac k Geom...     22.0   \n\"My Milestones Diaper Bag Studio - Poppy Red / ...     36.0   \n...                                                     ...   \nXCO TEAM BAG MADE OF 100%KNITTED POLYESTER(1 PC...     20.0   \nZALAE SYNAELLE BAG OUTER: 70% COTTON 3 0% POLYE...    800.0   \nZENO - BLACK NDM LEATHER EXECUTIVE BAG                  5.0   \nZENO - BROWN NDM LEATHER EXECUTIVE BAG                  3.0   \nZIPPER A4 TOTE BAGS SIZE : 26 X 42 CMS               1296.0   \n\n                                                    Std Unit Price(USD)  \\\nProduct                                                                   \n\"My Milestones Diaper Bag Diva Tote - Pi nk Geo...                15.15   \n\"My Milestones Diaper Bag Duo Detach - Navy Blu...                17.33   \n\"My Milestones Diaper Bag Duo Detach - Orange F...                18.42   \n\"My Milestones Diaper Bag Spectra - Blac k Geom...                15.15   \n\"My Milestones Diaper Bag Studio - Poppy Red / ...                15.15   \n...                                                                 ...   \nXCO TEAM BAG MADE OF 100%KNITTED POLYESTER(1 PC...                11.60   \nZALAE SYNAELLE BAG OUTER: 70% COTTON 3 0% POLYE...                10.32   \nZENO - BLACK NDM LEATHER EXECUTIVE BAG                            36.38   \nZENO - BROWN NDM LEATHER EXECUTIVE BAG                            36.38   \nZIPPER A4 TOTE BAGS SIZE : 26 X 42 CMS                             1.57   \n\n                                                       Qty  Value In FC  \\\nProduct                                                                   \n\"My Milestones Diaper Bag Diva Tote - Pi nk Geo...    12.0       221.04   \n\"My Milestones Diaper Bag Duo Detach - Navy Blu...    20.0       346.60   \n\"My Milestones Diaper Bag Duo Detach - Orange F...    12.0       221.04   \n\"My Milestones Diaper Bag Spectra - Blac k Geom...    22.0       333.30   \n\"My Milestones Diaper Bag Studio - Poppy Red / ...    36.0       192.24   \n...                                                    ...          ...   \nXCO TEAM BAG MADE OF 100%KNITTED POLYESTER(1 PC...    20.0       232.00   \nZALAE SYNAELLE BAG OUTER: 70% COTTON 3 0% POLYE...   800.0      7520.00   \nZENO - BLACK NDM LEATHER EXECUTIVE BAG                 5.0       180.00   \nZENO - BROWN NDM LEATHER EXECUTIVE BAG                 3.0       126.00   \nZIPPER A4 TOTE BAGS SIZE : 26 X 42 CMS              1296.0      2034.72   \n\n                                                    Unit Rate In FC  \\\nProduct                                                               \n\"My Milestones Diaper Bag Diva Tote - Pi nk Geo...            18.42   \n\"My Milestones Diaper Bag Duo Detach - Navy Blu...            17.33   \n\"My Milestones Diaper Bag Duo Detach - Orange F...            18.42   \n\"My Milestones Diaper Bag Spectra - Blac k Geom...            15.15   \n\"My Milestones Diaper Bag Studio - Poppy Red / ...             5.34   \n...                                                             ...   \nXCO TEAM BAG MADE OF 100%KNITTED POLYESTER(1 PC...            11.60   \nZALAE SYNAELLE BAG OUTER: 70% COTTON 3 0% POLYE...             9.40   \nZENO - BLACK NDM LEATHER EXECUTIVE BAG                        36.00   \nZENO - BROWN NDM LEATHER EXECUTIVE BAG                        42.00   \nZIPPER A4 TOTE BAGS SIZE : 26 X 42 CMS                         1.57   \n\n                                                    Value(INR)  \\\nProduct                                                          \n\"My Milestones Diaper Bag Diva Tote - Pi nk Geo...    12762.37   \n\"My Milestones Diaper Bag Duo Detach - Navy Blu...    24331.31   \n\"My Milestones Diaper Bag Duo Detach - Orange F...    15517.00   \n\"My Milestones Diaper Bag Spectra - Blac k Geom...    23397.65   \n\"My Milestones Diaper Bag Studio - Poppy Red / ...    38287.07   \n...                                                        ...   \nXCO TEAM BAG MADE OF 100%KNITTED POLYESTER(1 PC...    16344.28   \nZALAE SYNAELLE BAG OUTER: 70% COTTON 3 0% POLYE...   580543.99   \nZENO - BLACK NDM LEATHER EXECUTIVE BAG                12722.32   \nZENO - BROWN NDM LEATHER EXECUTIVE BAG                 7633.60   \nZIPPER A4 TOTE BAGS SIZE : 26 X 42 CMS               142328.69   \n\n                                                    Invoice Value INR  \\\nProduct                                                                 \n\"My Milestones Diaper Bag Diva Tote - Pi nk Geo...                0.0   \n\"My Milestones Diaper Bag Duo Detach - Navy Blu...                0.0   \n\"My Milestones Diaper Bag Duo Detach - Orange F...                0.0   \n\"My Milestones Diaper Bag Spectra - Blac k Geom...                0.0   \n\"My Milestones Diaper Bag Studio - Poppy Red / ...                0.0   \n...                                                               ...   \nXCO TEAM BAG MADE OF 100%KNITTED POLYESTER(1 PC...                0.0   \nZALAE SYNAELLE BAG OUTER: 70% COTTON 3 0% POLYE...                0.0   \nZENO - BLACK NDM LEATHER EXECUTIVE BAG                            0.0   \nZENO - BROWN NDM LEATHER EXECUTIVE BAG                            0.0   \nZIPPER A4 TOTE BAGS SIZE : 26 X 42 CMS                            0.0   \n\n                                                        Profit  \nProduct                                                         \n\"My Milestones Diaper Bag Diva Tote - Pi nk Geo...    10580.77  \n\"My Milestones Diaper Bag Duo Detach - Navy Blu...    17399.31  \n\"My Milestones Diaper Bag Duo Detach - Orange F...    12864.52  \n\"My Milestones Diaper Bag Spectra - Blac k Geom...    16065.05  \n\"My Milestones Diaper Bag Studio - Poppy Red / ...    18652.67  \n...                                                        ...  \nXCO TEAM BAG MADE OF 100%KNITTED POLYESTER(1 PC...    11704.28  \nZALAE SYNAELLE BAG OUTER: 70% COTTON 3 0% POLYE... -6025928.01  \nZENO - BLACK NDM LEATHER EXECUTIVE BAG                11812.92  \nZENO - BROWN NDM LEATHER EXECUTIVE BAG                 7306.21  \nZIPPER A4 TOTE BAGS SIZE : 26 X 42 CMS             -2494668.43  \n\n[3814 rows x 10 columns]",
      "text/html": "<div>\n<style scoped>\n    .dataframe tbody tr th:only-of-type {\n        vertical-align: middle;\n    }\n\n    .dataframe tbody tr th {\n        vertical-align: top;\n    }\n\n    .dataframe thead th {\n        text-align: right;\n    }\n</style>\n<table border=\"1\" class=\"dataframe\">\n  <thead>\n    <tr style=\"text-align: right;\">\n      <th></th>\n      <th>HS Code</th>\n      <th>Value(USD)</th>\n      <th>Std Qty</th>\n      <th>Std Unit Price(USD)</th>\n      <th>Qty</th>\n      <th>Value In FC</th>\n      <th>Unit Rate In FC</th>\n      <th>Value(INR)</th>\n      <th>Invoice Value INR</th>\n      <th>Profit</th>\n    </tr>\n    <tr>\n      <th>Product</th>\n      <th></th>\n      <th></th>\n      <th></th>\n      <th></th>\n      <th></th>\n      <th></th>\n      <th></th>\n      <th></th>\n      <th></th>\n      <th></th>\n    </tr>\n  </thead>\n  <tbody>\n    <tr>\n      <th>\"My Milestones Diaper Bag Diva Tote - Pi nk Geometric / Blue Stripes / Lavender C hecks\"</th>\n      <td>42022210</td>\n      <td>181.80</td>\n      <td>12.0</td>\n      <td>15.15</td>\n      <td>12.0</td>\n      <td>221.04</td>\n      <td>18.42</td>\n      <td>12762.37</td>\n      <td>0.0</td>\n      <td>10580.77</td>\n    </tr>\n    <tr>\n      <th>\"My Milestones Diaper Bag Duo Detach - Navy Blue / Coffee / Grey Red / Grey Gre en\"</th>\n      <td>42022210</td>\n      <td>346.60</td>\n      <td>20.0</td>\n      <td>17.33</td>\n      <td>20.0</td>\n      <td>346.60</td>\n      <td>17.33</td>\n      <td>24331.31</td>\n      <td>0.0</td>\n      <td>17399.31</td>\n    </tr>\n    <tr>\n      <th>\"My Milestones Diaper Bag Duo Detach - Orange Floral / Pink Blossom / Coffee Ci trus\"</th>\n      <td>42022210</td>\n      <td>221.04</td>\n      <td>12.0</td>\n      <td>18.42</td>\n      <td>12.0</td>\n      <td>221.04</td>\n      <td>18.42</td>\n      <td>15517.00</td>\n      <td>0.0</td>\n      <td>12864.52</td>\n    </tr>\n    <tr>\n      <th>\"My Milestones Diaper Bag Spectra - Blac k Geometric / Beige Checks / Brown Plaid / Grey Mosaic\"</th>\n      <td>42022210</td>\n      <td>333.30</td>\n      <td>22.0</td>\n      <td>15.15</td>\n      <td>22.0</td>\n      <td>333.30</td>\n      <td>15.15</td>\n      <td>23397.65</td>\n      <td>0.0</td>\n      <td>16065.05</td>\n    </tr>\n    <tr>\n      <th>\"My Milestones Diaper Bag Studio - Poppy Red / Denim Blue / Khaki / Brick Red / Wine / Moss Green\"</th>\n      <td>42022210</td>\n      <td>545.40</td>\n      <td>36.0</td>\n      <td>15.15</td>\n      <td>36.0</td>\n      <td>192.24</td>\n      <td>5.34</td>\n      <td>38287.07</td>\n      <td>0.0</td>\n      <td>18652.67</td>\n    </tr>\n    <tr>\n      <th>...</th>\n      <td>...</td>\n      <td>...</td>\n      <td>...</td>\n      <td>...</td>\n      <td>...</td>\n      <td>...</td>\n      <td>...</td>\n      <td>...</td>\n      <td>...</td>\n      <td>...</td>\n    </tr>\n    <tr>\n      <th>XCO TEAM BAG MADE OF 100%KNITTED POLYESTER(1 PC EACH KIT)</th>\n      <td>42021290</td>\n      <td>232.00</td>\n      <td>20.0</td>\n      <td>11.60</td>\n      <td>20.0</td>\n      <td>232.00</td>\n      <td>11.60</td>\n      <td>16344.28</td>\n      <td>0.0</td>\n      <td>11704.28</td>\n    </tr>\n    <tr>\n      <th>ZALAE SYNAELLE BAG OUTER: 70% COTTON 3 0% POLYESTER LINING: 100% POLYESTER HAND LE: 100% FAUX SUADE</th>\n      <td>42022290</td>\n      <td>8258.09</td>\n      <td>800.0</td>\n      <td>10.32</td>\n      <td>800.0</td>\n      <td>7520.00</td>\n      <td>9.40</td>\n      <td>580543.99</td>\n      <td>0.0</td>\n      <td>-6025928.01</td>\n    </tr>\n    <tr>\n      <th>ZENO - BLACK NDM LEATHER EXECUTIVE BAG</th>\n      <td>42021150</td>\n      <td>181.88</td>\n      <td>5.0</td>\n      <td>36.38</td>\n      <td>5.0</td>\n      <td>180.00</td>\n      <td>36.00</td>\n      <td>12722.32</td>\n      <td>0.0</td>\n      <td>11812.92</td>\n    </tr>\n    <tr>\n      <th>ZENO - BROWN NDM LEATHER EXECUTIVE BAG</th>\n      <td>42021150</td>\n      <td>109.13</td>\n      <td>3.0</td>\n      <td>36.38</td>\n      <td>3.0</td>\n      <td>126.00</td>\n      <td>42.00</td>\n      <td>7633.60</td>\n      <td>0.0</td>\n      <td>7306.21</td>\n    </tr>\n    <tr>\n      <th>ZIPPER A4 TOTE BAGS SIZE : 26 X 42 CMS</th>\n      <td>42022220</td>\n      <td>2034.72</td>\n      <td>1296.0</td>\n      <td>1.57</td>\n      <td>1296.0</td>\n      <td>2034.72</td>\n      <td>1.57</td>\n      <td>142328.69</td>\n      <td>0.0</td>\n      <td>-2494668.43</td>\n    </tr>\n  </tbody>\n</table>\n<p>3814 rows × 10 columns</p>\n</div>"
     },
     "execution_count": 11,
     "metadata": {},
     "output_type": "execute_result"
    }
   ],
   "source": [
    "df_most_performing"
   ]
  },
  {
   "cell_type": "code",
   "execution_count": 12,
   "metadata": {},
   "outputs": [
    {
     "data": {
      "text/plain": "            HS Code     Value(USD)        Std Qty  Std Unit Price(USD)  \\\ncount  3.814000e+03    3814.000000    3814.000000          3814.000000   \nmean   5.477032e+07    6147.698728    2923.325876            16.384827   \nstd    5.906910e+07   21719.163630   23773.423352            31.628704   \nmin    4.202111e+07       0.000000       0.000000             0.000000   \n25%    4.202221e+07     428.880000      50.000000             2.610000   \n50%    4.202222e+07    1438.315000     200.000000             7.245000   \n75%    4.202291e+07    4518.555000     700.000000            19.990000   \nmax    1.428755e+09  618519.410000  960000.000000           944.960000   \n\n                 Qty    Value In FC  Unit Rate In FC    Value(INR)  \\\ncount    3814.000000    3814.000000      3814.000000  3.814000e+03   \nmean     2920.497842    6472.026198        27.425236  4.331528e+05   \nstd     23773.574508   23667.786798       123.666641  1.530860e+06   \nmin         0.000000       0.000000         0.000000  0.000000e+00   \n25%        50.000000     476.000000         2.682500  3.018319e+04   \n50%       200.000000    1500.000000         7.395000  1.016306e+05   \n75%       700.000000    4524.675000        20.470000  3.169882e+05   \nmax    960000.000000  596466.000000      3385.000000  4.359292e+07   \n\n       Invoice Value INR        Profit  \ncount             3814.0  3.814000e+03  \nmean                 0.0 -2.949648e+08  \nstd                  0.0  7.825091e+09  \nmin                  0.0 -4.018239e+11  \n25%                  0.0 -2.515364e+06  \n50%                  0.0 -1.788478e+05  \n75%                  0.0  7.541675e+02  \nmax                  0.0  2.661823e+05  ",
      "text/html": "<div>\n<style scoped>\n    .dataframe tbody tr th:only-of-type {\n        vertical-align: middle;\n    }\n\n    .dataframe tbody tr th {\n        vertical-align: top;\n    }\n\n    .dataframe thead th {\n        text-align: right;\n    }\n</style>\n<table border=\"1\" class=\"dataframe\">\n  <thead>\n    <tr style=\"text-align: right;\">\n      <th></th>\n      <th>HS Code</th>\n      <th>Value(USD)</th>\n      <th>Std Qty</th>\n      <th>Std Unit Price(USD)</th>\n      <th>Qty</th>\n      <th>Value In FC</th>\n      <th>Unit Rate In FC</th>\n      <th>Value(INR)</th>\n      <th>Invoice Value INR</th>\n      <th>Profit</th>\n    </tr>\n  </thead>\n  <tbody>\n    <tr>\n      <th>count</th>\n      <td>3.814000e+03</td>\n      <td>3814.000000</td>\n      <td>3814.000000</td>\n      <td>3814.000000</td>\n      <td>3814.000000</td>\n      <td>3814.000000</td>\n      <td>3814.000000</td>\n      <td>3.814000e+03</td>\n      <td>3814.0</td>\n      <td>3.814000e+03</td>\n    </tr>\n    <tr>\n      <th>mean</th>\n      <td>5.477032e+07</td>\n      <td>6147.698728</td>\n      <td>2923.325876</td>\n      <td>16.384827</td>\n      <td>2920.497842</td>\n      <td>6472.026198</td>\n      <td>27.425236</td>\n      <td>4.331528e+05</td>\n      <td>0.0</td>\n      <td>-2.949648e+08</td>\n    </tr>\n    <tr>\n      <th>std</th>\n      <td>5.906910e+07</td>\n      <td>21719.163630</td>\n      <td>23773.423352</td>\n      <td>31.628704</td>\n      <td>23773.574508</td>\n      <td>23667.786798</td>\n      <td>123.666641</td>\n      <td>1.530860e+06</td>\n      <td>0.0</td>\n      <td>7.825091e+09</td>\n    </tr>\n    <tr>\n      <th>min</th>\n      <td>4.202111e+07</td>\n      <td>0.000000</td>\n      <td>0.000000</td>\n      <td>0.000000</td>\n      <td>0.000000</td>\n      <td>0.000000</td>\n      <td>0.000000</td>\n      <td>0.000000e+00</td>\n      <td>0.0</td>\n      <td>-4.018239e+11</td>\n    </tr>\n    <tr>\n      <th>25%</th>\n      <td>4.202221e+07</td>\n      <td>428.880000</td>\n      <td>50.000000</td>\n      <td>2.610000</td>\n      <td>50.000000</td>\n      <td>476.000000</td>\n      <td>2.682500</td>\n      <td>3.018319e+04</td>\n      <td>0.0</td>\n      <td>-2.515364e+06</td>\n    </tr>\n    <tr>\n      <th>50%</th>\n      <td>4.202222e+07</td>\n      <td>1438.315000</td>\n      <td>200.000000</td>\n      <td>7.245000</td>\n      <td>200.000000</td>\n      <td>1500.000000</td>\n      <td>7.395000</td>\n      <td>1.016306e+05</td>\n      <td>0.0</td>\n      <td>-1.788478e+05</td>\n    </tr>\n    <tr>\n      <th>75%</th>\n      <td>4.202291e+07</td>\n      <td>4518.555000</td>\n      <td>700.000000</td>\n      <td>19.990000</td>\n      <td>700.000000</td>\n      <td>4524.675000</td>\n      <td>20.470000</td>\n      <td>3.169882e+05</td>\n      <td>0.0</td>\n      <td>7.541675e+02</td>\n    </tr>\n    <tr>\n      <th>max</th>\n      <td>1.428755e+09</td>\n      <td>618519.410000</td>\n      <td>960000.000000</td>\n      <td>944.960000</td>\n      <td>960000.000000</td>\n      <td>596466.000000</td>\n      <td>3385.000000</td>\n      <td>4.359292e+07</td>\n      <td>0.0</td>\n      <td>2.661823e+05</td>\n    </tr>\n  </tbody>\n</table>\n</div>"
     },
     "execution_count": 12,
     "metadata": {},
     "output_type": "execute_result"
    }
   ],
   "source": [
    "df_most_performing.describe()"
   ]
  },
  {
   "cell_type": "code",
   "execution_count": 15,
   "metadata": {},
   "outputs": [
    {
     "ename": "ModuleNotFoundError",
     "evalue": "No module named 'matplotlib'",
     "output_type": "error",
     "traceback": [
      "\u001B[0;31m---------------------------------------------------------------------------\u001B[0m",
      "\u001B[0;31mModuleNotFoundError\u001B[0m                       Traceback (most recent call last)",
      "\u001B[0;32m<ipython-input-15-5b231e63bce6>\u001B[0m in \u001B[0;36m<module>\u001B[0;34m\u001B[0m\n\u001B[0;32m----> 1\u001B[0;31m \u001B[0;32mimport\u001B[0m \u001B[0mmatplotlib\u001B[0m\u001B[0;34m.\u001B[0m\u001B[0mpyplot\u001B[0m \u001B[0;32mas\u001B[0m \u001B[0mplt\u001B[0m\u001B[0;34m\u001B[0m\u001B[0;34m\u001B[0m\u001B[0m\n\u001B[0m\u001B[1;32m      2\u001B[0m \u001B[0;32mimport\u001B[0m \u001B[0mseaborn\u001B[0m \u001B[0;32mas\u001B[0m \u001B[0msns\u001B[0m\u001B[0;34m\u001B[0m\u001B[0;34m\u001B[0m\u001B[0m\n\u001B[1;32m      3\u001B[0m \u001B[0msns\u001B[0m\u001B[0;34m.\u001B[0m\u001B[0mset\u001B[0m\u001B[0;34m(\u001B[0m\u001B[0;34m)\u001B[0m\u001B[0;34m\u001B[0m\u001B[0;34m\u001B[0m\u001B[0m\n\u001B[1;32m      4\u001B[0m \u001B[0;34m\u001B[0m\u001B[0m\n",
      "\u001B[0;31mModuleNotFoundError\u001B[0m: No module named 'matplotlib'"
     ]
    }
   ],
   "source": [
    "import matplotlib.pyplot as plt\n",
    "import seaborn as sns\n",
    "sns.set()"
   ]
  },
  {
   "cell_type": "code",
   "execution_count": null,
   "metadata": {},
   "outputs": [],
   "source": [
    "df_most_performing.index\n"
   ]
  },
  {
   "cell_type": "code",
   "execution_count": null,
   "metadata": {},
   "outputs": [],
   "source": [
    "prod = df_most_performing.index.tolist()\n",
    "profit = df_most_performing['Profit'].tolist()\n",
    "d1 = {}\n",
    "for l1_ in prod:\n",
    "    for l2_ in profit:\n",
    "        d1[l1_] = l2_\n",
    "        profit.remove(l2_)\n",
    "        break\n",
    "sorted_dict = sorted(d1.items(),key=lambda item: item[1],reverse=True)[:10]\n",
    "dictionary = dict(sorted_dict)\n",
    "dictionary"
   ]
  },
  {
   "cell_type": "code",
   "execution_count": null,
   "metadata": {},
   "outputs": [],
   "source": [
    "print(profit)"
   ]
  },
  {
   "cell_type": "code",
   "execution_count": 14,
   "metadata": {},
   "outputs": [
    {
     "ename": "NameError",
     "evalue": "name 'plt' is not defined",
     "output_type": "error",
     "traceback": [
      "\u001B[0;31m---------------------------------------------------------------------------\u001B[0m",
      "\u001B[0;31mNameError\u001B[0m                                 Traceback (most recent call last)",
      "\u001B[0;32m<ipython-input-14-e334cee64b99>\u001B[0m in \u001B[0;36m<module>\u001B[0;34m\u001B[0m\n\u001B[0;32m----> 1\u001B[0;31m \u001B[0mfig\u001B[0m \u001B[0;34m=\u001B[0m \u001B[0mplt\u001B[0m\u001B[0;34m.\u001B[0m\u001B[0mfigure\u001B[0m\u001B[0;34m(\u001B[0m\u001B[0;34m)\u001B[0m\u001B[0;34m\u001B[0m\u001B[0;34m\u001B[0m\u001B[0m\n\u001B[0m\u001B[1;32m      2\u001B[0m \u001B[0max\u001B[0m \u001B[0;34m=\u001B[0m \u001B[0mfig\u001B[0m\u001B[0;34m.\u001B[0m\u001B[0madd_axes\u001B[0m\u001B[0;34m(\u001B[0m\u001B[0;34m[\u001B[0m\u001B[0;36m0\u001B[0m\u001B[0;34m,\u001B[0m\u001B[0;36m0\u001B[0m\u001B[0;34m,\u001B[0m\u001B[0;36m1\u001B[0m\u001B[0;34m,\u001B[0m\u001B[0;36m1\u001B[0m\u001B[0;34m]\u001B[0m\u001B[0;34m)\u001B[0m\u001B[0;34m\u001B[0m\u001B[0;34m\u001B[0m\u001B[0m\n\u001B[1;32m      3\u001B[0m \u001B[0max\u001B[0m\u001B[0;34m.\u001B[0m\u001B[0mbar\u001B[0m\u001B[0;34m(\u001B[0m\u001B[0mdictionary\u001B[0m\u001B[0;34m.\u001B[0m\u001B[0mkeys\u001B[0m\u001B[0;34m(\u001B[0m\u001B[0;34m)\u001B[0m\u001B[0;34m,\u001B[0m\u001B[0mdictionary\u001B[0m\u001B[0;34m.\u001B[0m\u001B[0mvalues\u001B[0m\u001B[0;34m(\u001B[0m\u001B[0;34m)\u001B[0m\u001B[0;34m)\u001B[0m\u001B[0;34m\u001B[0m\u001B[0;34m\u001B[0m\u001B[0m\n\u001B[1;32m      4\u001B[0m \u001B[0mplt\u001B[0m\u001B[0;34m.\u001B[0m\u001B[0mshow\u001B[0m\u001B[0;34m(\u001B[0m\u001B[0;34m)\u001B[0m\u001B[0;34m\u001B[0m\u001B[0;34m\u001B[0m\u001B[0m\n\u001B[1;32m      5\u001B[0m \u001B[0;34m\u001B[0m\u001B[0m\n",
      "\u001B[0;31mNameError\u001B[0m: name 'plt' is not defined"
     ]
    }
   ],
   "source": [
    "fig = plt.figure()\n",
    "ax = fig.add_axes([0,0,1,1])\n",
    "ax.bar(dictionary.keys(),dictionary.values())\n",
    "plt.show()"
   ]
  },
  {
   "cell_type": "code",
   "execution_count": null,
   "metadata": {},
   "outputs": [],
   "source": []
  },
  {
   "cell_type": "code",
   "execution_count": null,
   "metadata": {},
   "outputs": [],
   "source": []
  }
 ],
 "metadata": {
  "kernelspec": {
   "display_name": "Python 3",
   "language": "python",
   "name": "python3"
  },
  "language_info": {
   "codemirror_mode": {
    "name": "ipython",
    "version": 3
   },
   "file_extension": ".py",
   "mimetype": "text/x-python",
   "name": "python",
   "nbconvert_exporter": "python",
   "pygments_lexer": "ipython3",
   "version": "3.8.5"
  }
 },
 "nbformat": 4,
 "nbformat_minor": 4
}